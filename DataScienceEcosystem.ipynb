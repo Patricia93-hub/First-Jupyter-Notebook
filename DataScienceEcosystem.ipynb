{
  "metadata": {
    "kernelspec": {
      "name": "python",
      "display_name": "Python (Pyodide)",
      "language": "python"
    },
    "language_info": {
      "codemirror_mode": {
        "name": "python",
        "version": 3
      },
      "file_extension": ".py",
      "mimetype": "text/x-python",
      "name": "python",
      "nbconvert_exporter": "python",
      "pygments_lexer": "ipython3",
      "version": "3.8"
    }
  },
  "nbformat_minor": 5,
  "nbformat": 4,
  "cells": [
    {
      "id": "aa05e438-cd87-42fa-9ec9-6ebdde957334",
      "cell_type": "markdown",
      "source": "# Data Science Tools and Ecosystem",
      "metadata": {}
    },
    {
      "id": "6f6b8dc8-f870-4d69-bd48-50c3a1d8400f",
      "cell_type": "markdown",
      "source": "En este cuaderno, se resumen las herramientas y ecosistemas de ciencia de datos.",
      "metadata": {}
    },
    {
      "id": "90310fa9-149d-4263-a093-c14ceb31150c",
      "cell_type": "markdown",
      "source": "Algunos de los lenguajes más populares utilizados en Data Science son:\n1. SQL\n2. Phyton\n3. Java\n4. R",
      "metadata": {}
    },
    {
      "id": "27620c56-9364-4fce-8056-613a8784c3d2",
      "cell_type": "markdown",
      "source": "Algunas de las librerías más usadas por los Científicos de Datos son:\n1. Pandas\n2. NumPy\n3. SciPy\n4. Keras",
      "metadata": {}
    },
    {
      "id": "b3eba7ca-45b2-4d00-a14e-77c7e7876103",
      "cell_type": "markdown",
      "source": "|Data Science Tools|\n|---|\n|SAS|\n|Apache Hadoop|\n|TensorFlow|",
      "metadata": {}
    },
    {
      "id": "7de70df9-ca25-45bc-b08b-db8a414fb8e5",
      "cell_type": "markdown",
      "source": "### Ejemplos de expresiones aritméticas en Phyton",
      "metadata": {}
    },
    {
      "id": "81d61e78-153b-4455-9544-cd3af0f8cb72",
      "cell_type": "code",
      "source": "3*4+5",
      "metadata": {
        "trusted": true
      },
      "outputs": [
        {
          "execution_count": 9,
          "output_type": "execute_result",
          "data": {
            "text/plain": "17"
          },
          "metadata": {}
        }
      ],
      "execution_count": 9
    },
    {
      "id": "97eaf994-83e8-4f12-ac75-dd78ff1aaad7",
      "cell_type": "code",
      "source": "#This will convert minutes to hours\n200/60",
      "metadata": {
        "trusted": true
      },
      "outputs": [
        {
          "execution_count": 10,
          "output_type": "execute_result",
          "data": {
            "text/plain": "3.3333333333333335"
          },
          "metadata": {}
        }
      ],
      "execution_count": 10
    },
    {
      "id": "b76e25d6-4627-4098-b1d1-778f48229006",
      "cell_type": "markdown",
      "source": "__Objectives__\n* List popular languages for Data Science\n* List popular libraries for Data Science\n* List well known Data Science Tools",
      "metadata": {}
    },
    {
      "id": "3564a537-6087-46c5-9a61-91e4fc0e008a",
      "cell_type": "markdown",
      "source": "## Autora\nPatricia López",
      "metadata": {}
    }
  ]
}